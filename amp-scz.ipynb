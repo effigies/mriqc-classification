{
 "cells": [
  {
   "cell_type": "markdown",
   "id": "a309a669-196c-46f2-847f-bf6ed0e776be",
   "metadata": {
    "tags": []
   },
   "source": [
    "# AMP-SCZ MRIQC classification"
   ]
  },
  {
   "cell_type": "code",
   "execution_count": null,
   "id": "c3a1d8de-82ef-406d-b139-bb840b2b9e11",
   "metadata": {
    "tags": []
   },
   "outputs": [],
   "source": [
    "import bids\n",
    "import pandas as pd\n",
    "import numpy as np\n",
    "from matplotlib import pyplot\n",
    "\n",
    "from sklearn.model_selection import GridSearchCV, KFold, train_test_split\n",
    "from sklearn.pipeline import Pipeline\n",
    "from sklearn.preprocessing import StandardScaler\n",
    "from sklearn.linear_model import LinearRegression, LogisticRegression\n",
    "from sklearn.metrics import accuracy_score\n",
    "from sklearn.ensemble import RandomForestRegressor, RandomForestClassifier"
   ]
  },
  {
   "cell_type": "code",
   "execution_count": null,
   "id": "02c44e71-2b54-4955-a3d8-e19752eceb21",
   "metadata": {
    "tags": []
   },
   "outputs": [],
   "source": [
    "T1w_train = pd.read_csv('T1w_train.csv', index_col=0)\n",
    "T2w_train = pd.read_csv('T2w_train.csv', index_col=0)\n",
    "BOLD_train = pd.read_csv('BOLD_train.csv', index_col=0)\n",
    "T1w_test = pd.read_csv('T1w_test.csv', index_col=0)\n",
    "T2w_test = pd.read_csv('T2w_test.csv', index_col=0)\n",
    "BOLD_test = pd.read_csv('BOLD_test.csv', index_col=0)"
   ]
  },
  {
   "cell_type": "code",
   "execution_count": null,
   "id": "a6f61346-f494-406a-b214-0c14f8ec0f40",
   "metadata": {
    "tags": []
   },
   "outputs": [],
   "source": [
    "BOLD_train['pass'].value_counts()"
   ]
  },
  {
   "cell_type": "code",
   "execution_count": null,
   "id": "2b4bd0c5-3088-4e90-a0ff-4a1228356c98",
   "metadata": {
    "tags": []
   },
   "outputs": [],
   "source": [
    "print(T1w_train.shape)"
   ]
  },
  {
   "cell_type": "code",
   "execution_count": null,
   "id": "cacdba86-bf4d-4a7d-b45d-6a9044027775",
   "metadata": {
    "tags": []
   },
   "outputs": [],
   "source": [
    "T1w_train"
   ]
  },
  {
   "cell_type": "code",
   "execution_count": null,
   "id": "d2c82e34-eccd-4ca6-8d7b-cea8f7d01efb",
   "metadata": {
    "tags": []
   },
   "outputs": [],
   "source": [
    "T1w_train.corrwith(T1w_train.rating).dropna().sort_values()"
   ]
  },
  {
   "cell_type": "code",
   "execution_count": null,
   "id": "3ba3f907",
   "metadata": {
    "tags": []
   },
   "outputs": [],
   "source": [
    "T1w_train.corrwith(T1w_train[\"pass\"]).dropna().sort_values()"
   ]
  },
  {
   "cell_type": "code",
   "execution_count": null,
   "id": "1a4f3cdd-c08d-43fd-96e2-ce7d93d9080b",
   "metadata": {
    "tags": []
   },
   "outputs": [],
   "source": [
    "def find_optimal_regressor(dataframe, dependent_variable_name, also_drop=()):\n",
    "    # Separate independent and dependent variables\n",
    "    X = dataframe.drop([dependent_variable_name] + list(also_drop), axis=1)\n",
    "    y = dataframe[dependent_variable_name]\n",
    "    \n",
    "    # Define pipeline with standardization and regression model\n",
    "    pipe = Pipeline([\n",
    "        ('scale', StandardScaler()),\n",
    "        ('model', LinearRegression())\n",
    "    ])\n",
    "    \n",
    "    # Define hyperparameters for grid search\n",
    "    linear_param_grid = {\n",
    "        'model': [LinearRegression()],\n",
    "    }\n",
    "    \n",
    "    forest_param_grid = {\n",
    "        'model': [RandomForestRegressor()],\n",
    "        'model__n_estimators': [10, 50, 100],\n",
    "        'model__max_depth': [None, 5, 10],\n",
    "    }\n",
    "    \n",
    "    # Define nested cross-validation\n",
    "    outer_cv = KFold(n_splits=5, shuffle=True)\n",
    "    inner_cv = KFold(n_splits=5, shuffle=True)\n",
    "    linear_search = GridSearchCV(pipe, param_grid=linear_param_grid, cv=inner_cv, n_jobs=-1)\n",
    "    forest_search = GridSearchCV(pipe, param_grid=forest_param_grid, cv=inner_cv, n_jobs=-1)\n",
    "    best_model = None\n",
    "    best_score = float('-inf')\n",
    "    \n",
    "    # Run nested cross-validation\n",
    "    for train_index, test_index in outer_cv.split(X, y):\n",
    "        X_train, X_test = X.iloc[train_index], X.iloc[test_index]\n",
    "        y_train, y_test = y.iloc[train_index], y.iloc[test_index]\n",
    "        \n",
    "        # Use LinearRegression model\n",
    "        linear_search.fit(X_train, y_train)\n",
    "        linear_score = linear_search.score(X_test, y_test)\n",
    "        if linear_score > best_score:\n",
    "            best_model = linear_search.best_estimator_\n",
    "            best_score = linear_score\n",
    "        \n",
    "        # Use RandomForestRegressor model\n",
    "        forest_search.fit(X_train, y_train)\n",
    "        forest_score = forest_search.score(X_test, y_test)\n",
    "        if forest_score > best_score:\n",
    "            best_model = forest_search.best_estimator_\n",
    "            best_score = forest_score\n",
    "    \n",
    "    # Return the best model\n",
    "    return best_model"
   ]
  },
  {
   "cell_type": "code",
   "execution_count": null,
   "id": "88ebf70d-4eca-40d8-9439-05c13d1c79cd",
   "metadata": {
    "tags": []
   },
   "outputs": [],
   "source": [
    "def find_optimal_classifier(dataframe, dependent_variable_name, also_drop=()):\n",
    "    \"\"\"\n",
    "    Performs nested cross-validation to identify a classifier that provides the best prediction of the dependent variable.\n",
    "    \n",
    "    Args:\n",
    "    - dataframe: Pandas dataframe with independent and dependent variables as columns and observations as rows.\n",
    "    - dependent_variable_name: String indicating the name of the column in dataframe that contains the dependent variable.\n",
    "    \n",
    "    Returns:\n",
    "    - clf: Trained scikit-learn classifier that provides the best prediction of the dependent variable.\n",
    "    \"\"\"\n",
    "    \n",
    "    # Separate independent and dependent variables\n",
    "    X = dataframe.drop([dependent_variable_name] + list(also_drop), axis=1)\n",
    "    y = dataframe[dependent_variable_name]\n",
    "    \n",
    "    # Define hyperparameters for grid search\n",
    "    clf1 = RandomForestClassifier()\n",
    "    params1 = {'n_estimators': [100, 500], 'max_depth': [5, 10]}\n",
    "    \n",
    "    clf2 = LogisticRegression()\n",
    "    params2 = {'penalty': ['l1', 'l2'], 'C': [0.1, 1.0, 10.0]}\n",
    "    \n",
    "    # Initialize model list\n",
    "    models = []\n",
    "    \n",
    "    # Create KFold objects for outer and inner loops of cross-validation\n",
    "    outer_cv = KFold(n_splits=5, shuffle=True, random_state=42)\n",
    "    inner_cv = KFold(n_splits=5, shuffle=True, random_state=42)\n",
    "    \n",
    "    # Perform nested cross-validation\n",
    "    for i, (train_idx, test_idx) in enumerate(outer_cv.split(X)):\n",
    "        \n",
    "        print(f\"Fold {i+1}\")\n",
    "            \n",
    "        X_train_outer, X_test_outer = X.iloc[train_idx], X.iloc[test_idx]\n",
    "        y_train_outer, y_test_outer = y.iloc[train_idx], y.iloc[test_idx]\n",
    "        \n",
    "        best_params = None\n",
    "        best_score = None\n",
    "        \n",
    "        # Perform grid search with the first classifier\n",
    "        gs1 = GridSearchCV(clf1, params1, cv=inner_cv)\n",
    "        gs1.fit(X_train_outer, y_train_outer)\n",
    "        \n",
    "        # Perform grid search with the second classifier\n",
    "        gs2 = GridSearchCV(clf2, params2, cv=inner_cv)\n",
    "        gs2.fit(X_train_outer, y_train_outer)\n",
    "        \n",
    "        # Choose the best classifier and its hyperparameters\n",
    "        if gs1.best_score_ > gs2.best_score_:\n",
    "            best_params = gs1.best_params_\n",
    "            best_score = gs1.best_score_\n",
    "            clf = clf1.set_params(**best_params)\n",
    "            models.append((clf, best_score))\n",
    "        else:\n",
    "            best_params = gs2.best_params_\n",
    "            best_score = gs2.best_score_\n",
    "            clf = clf2.set_params(**best_params)\n",
    "            models.append((clf, best_score))\n",
    "        \n",
    "        print(f\"Best score: {best_score}\")\n",
    "        print(f\"Best params: {best_params}\")\n",
    "        \n",
    "    # Choose the best classifier across all folds\n",
    "    best_model = max(models, key=lambda x: x[1])[0]\n",
    "    \n",
    "    # Train the chosen classifier on the entire dataset\n",
    "    best_model.fit(X, y)\n",
    "    \n",
    "    return best_model"
   ]
  },
  {
   "cell_type": "code",
   "execution_count": null,
   "id": "19468f95-c711-45dd-b6d7-8444e0e2482c",
   "metadata": {
    "tags": []
   },
   "outputs": [],
   "source": [
    "pass_model = find_optimal_regressor(T1w_train, \"pass\", [\"rating\"])"
   ]
  },
  {
   "cell_type": "code",
   "execution_count": null,
   "id": "8b6d10ba-b550-420d-b89b-e53cda9ad675",
   "metadata": {
    "tags": []
   },
   "outputs": [],
   "source": [
    "predictions = pass_model.predict(T1w_train.drop([\"pass\", \"rating\"], axis=1))"
   ]
  },
  {
   "cell_type": "code",
   "execution_count": null,
   "id": "4662d481-7750-4562-9439-edda8d47d5d8",
   "metadata": {
    "tags": []
   },
   "outputs": [],
   "source": [
    "np.sum((predictions > 0.5) != T1w_train[\"pass\"])"
   ]
  },
  {
   "cell_type": "code",
   "execution_count": null,
   "id": "ae4f7471-12b1-499a-a28b-d29020d9d77b",
   "metadata": {
    "tags": []
   },
   "outputs": [],
   "source": [
    "T1w_train[\"pass\"].sum()"
   ]
  },
  {
   "cell_type": "code",
   "execution_count": null,
   "id": "320d4368-7797-46c4-90ed-a8d3e23ba898",
   "metadata": {
    "tags": []
   },
   "outputs": [],
   "source": [
    "rating_model = find_optimal_regressor(T1w_train, \"rating\", [\"pass\"])\n",
    "rating_predictions = rating_model.predict(T1w_train.drop([\"pass\", \"rating\"], axis=1))"
   ]
  },
  {
   "cell_type": "code",
   "execution_count": null,
   "id": "101b9eaa-ee75-4bfa-877c-4bd179ea9286",
   "metadata": {
    "tags": []
   },
   "outputs": [],
   "source": [
    "np.min(rating_predictions - T1w_train.rating)"
   ]
  },
  {
   "cell_type": "code",
   "execution_count": null,
   "id": "03fda234-dec3-48cc-bd20-7fb6a667060f",
   "metadata": {
    "tags": []
   },
   "outputs": [],
   "source": [
    "pyplot.scatter(T1w_train.rating, rating_predictions)"
   ]
  },
  {
   "cell_type": "code",
   "execution_count": null,
   "id": "d238cb3b-8ea5-4072-916d-9add8935e351",
   "metadata": {
    "tags": []
   },
   "outputs": [],
   "source": [
    "rating_model"
   ]
  },
  {
   "cell_type": "code",
   "execution_count": null,
   "id": "f5c02ba1-19a3-4adf-a821-d6c1317ede32",
   "metadata": {
    "tags": []
   },
   "outputs": [],
   "source": [
    "pass_model"
   ]
  },
  {
   "cell_type": "code",
   "execution_count": null,
   "id": "e8d3b49c-3e92-4848-a87d-43364e498902",
   "metadata": {
    "tags": []
   },
   "outputs": [],
   "source": [
    "pass_clf = find_optimal_classifier(T1w_train, \"pass\", [\"rating\"])"
   ]
  },
  {
   "cell_type": "code",
   "execution_count": null,
   "id": "a4925f98-07a2-416b-bf39-3d0eb399fa6c",
   "metadata": {
    "tags": []
   },
   "outputs": [],
   "source": [
    "pass_clf"
   ]
  },
  {
   "cell_type": "code",
   "execution_count": null,
   "id": "c6d50c11-5c4a-4894-9614-6ad438607fa1",
   "metadata": {
    "tags": []
   },
   "outputs": [],
   "source": [
    "pass_predictions = pass_clf.predict(T1w_train.drop([\"pass\", \"rating\"], axis=1))\n",
    "pyplot.scatter(T1w_train['pass'], pass_predictions)"
   ]
  },
  {
   "cell_type": "code",
   "execution_count": null,
   "id": "c6732181-0e66-47aa-b1ca-dbe7d4a98108",
   "metadata": {
    "tags": []
   },
   "outputs": [],
   "source": [
    "T1w_test = pd.read_csv('T1w_test.csv', index_col=0)"
   ]
  },
  {
   "cell_type": "code",
   "execution_count": null,
   "id": "2ab3b2d0-33a0-46c9-a52d-6dde3e4d1e7b",
   "metadata": {
    "tags": []
   },
   "outputs": [],
   "source": [
    "T1w_pred = pass_clf.predict(T1w_test.drop([\"pass\", \"rating\"], axis=1))\n",
    "pyplot.scatter(T1w_test['pass'], T1w_pred)"
   ]
  }
 ],
 "metadata": {
  "kernelspec": {
   "display_name": "Python 3 (ipykernel)",
   "language": "python",
   "name": "python3"
  },
  "language_info": {
   "codemirror_mode": {
    "name": "ipython",
    "version": 3
   },
   "file_extension": ".py",
   "mimetype": "text/x-python",
   "name": "python",
   "nbconvert_exporter": "python",
   "pygments_lexer": "ipython3",
   "version": "3.10.10"
  }
 },
 "nbformat": 4,
 "nbformat_minor": 5
}

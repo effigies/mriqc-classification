{
 "cells": [
  {
   "cell_type": "markdown",
   "id": "a309a669-196c-46f2-847f-bf6ed0e776be",
   "metadata": {
    "tags": []
   },
   "source": [
    "# AMP-SCZ MRIQC data prep"
   ]
  },
  {
   "cell_type": "code",
   "execution_count": null,
   "id": "c3a1d8de-82ef-406d-b139-bb840b2b9e11",
   "metadata": {
    "tags": []
   },
   "outputs": [],
   "source": [
    "import bids\n",
    "import pandas as pd\n",
    "import numpy as np\n",
    "\n",
    "from sklearn.model_selection import train_test_split"
   ]
  },
  {
   "cell_type": "code",
   "execution_count": null,
   "id": "21a4937c-a115-4f24-8af8-b1e11824604e",
   "metadata": {},
   "outputs": [],
   "source": [
    "# XXX Change this to location of MRIQC directory\n",
    "MRIQC_PATH = '/mnt/church/amp-scz/mriqc'\n",
    "# XXX Change this to ODS export location of U24 MRI QC spreadsheet\n",
    "MANUAL_QC_EXPORT = 'U24 MRI QC.ods'"
   ]
  },
  {
   "cell_type": "code",
   "execution_count": null,
   "id": "2a3398c8-5f34-43ad-8d38-055cf97f3a5c",
   "metadata": {
    "tags": []
   },
   "outputs": [],
   "source": [
    "orig_ratings = pd.read_excel(MANUAL_QC_EXPORT)"
   ]
  },
  {
   "cell_type": "code",
   "execution_count": null,
   "id": "5da76228-a952-4831-bccb-ab6ede83811f",
   "metadata": {
    "tags": []
   },
   "outputs": [],
   "source": [
    "# Select rows with defined subject and session, retrieve MRIQC-relevant ratings\n",
    "# Drop sessions that are not yet rated\n",
    "pared_ratings = orig_ratings.loc[\n",
    "    ~(orig_ratings['sub-*/ses-*_gs'].isna()),\n",
    "    ['sub_id_gs', 'ses_id_gs', 'T1w', 'T2w', 'fmri AP bold run 1', 'fmri AP bold run 2', 'fmri PA bold run 1', 'fmri PA bold run 2'],\n",
    "].dropna()\n",
    "# Session labels interpreted as floats\n",
    "pared_ratings['ses_id_gs'] = pared_ratings['ses_id_gs'].astype(int).astype('str')"
   ]
  },
  {
   "cell_type": "code",
   "execution_count": null,
   "id": "7f00b15c-733d-4356-9fb3-311bfefa06f1",
   "metadata": {
    "tags": []
   },
   "outputs": [],
   "source": [
    "def tail_to_query(tail):\n",
    "    components = tail.split('_')\n",
    "    query = {'suffix': components.pop()}\n",
    "    query.update([entity.split('-') for entity in components])\n",
    "    if 'run' in query:\n",
    "        query['run'] = int(query['run'])\n",
    "    if 'dir' in query:\n",
    "        query['direction'] = query.pop('dir')\n",
    "    return query"
   ]
  },
  {
   "cell_type": "code",
   "execution_count": null,
   "id": "011c0d8f-2e53-4e94-a5e6-1b99dc6c2d29",
   "metadata": {
    "tags": []
   },
   "outputs": [],
   "source": [
    "# Tidy up\n",
    "ratings = pared_ratings.rename(\n",
    "    columns={\n",
    "        'sub_id_gs': 'subject',\n",
    "        'ses_id_gs': 'session',\n",
    "        'fmri AP bold run 1': 'dir-AP_run-1_bold',\n",
    "        'fmri AP bold run 2': 'dir-AP_run-2_bold',\n",
    "        'fmri PA bold run 1': 'dir-PA_run-1_bold',\n",
    "        'fmri PA bold run 2': 'dir-PA_run-2_bold',\n",
    "    }\n",
    ").melt(id_vars=['subject', 'session'], var_name='tail', value_name='rating')\n",
    "\n",
    "# Fix run entity for bad run 2\n",
    "fix_index = ratings.rating == '4 (for Run 3)'\n",
    "ratings.loc[fix_index, 'tail'] = ratings.loc[fix_index, 'tail'].values[0].replace('2', '3')\n",
    "ratings.loc[fix_index, 'rating'] = '4'\n",
    "\n",
    "# Drop missing ratings (\"-\")\n",
    "ratings.rating = pd.to_numeric(ratings.rating, errors='coerce')\n",
    "ratings = ratings.dropna()"
   ]
  },
  {
   "cell_type": "code",
   "execution_count": null,
   "id": "b58a7607-59ba-4b77-84a7-4acf30d530e4",
   "metadata": {
    "tags": []
   },
   "outputs": [],
   "source": [
    "ratings"
   ]
  },
  {
   "cell_type": "code",
   "execution_count": null,
   "id": "dccd81e6-6a24-4e80-8a99-7d18e9755edb",
   "metadata": {
    "tags": []
   },
   "outputs": [],
   "source": [
    "sum(ratings['rating'] < 3)"
   ]
  },
  {
   "cell_type": "code",
   "execution_count": null,
   "id": "50d5dfa1-a8ed-4c70-a0dd-67b610118eec",
   "metadata": {
    "tags": []
   },
   "outputs": [],
   "source": [
    "layout = bids.BIDSLayout(MRIQC_PATH, validate=False, database_path=\"./u24mriqc.db\")"
   ]
  },
  {
   "cell_type": "code",
   "execution_count": null,
   "id": "461df514-08ac-4331-97d2-78b3922312dd",
   "metadata": {
    "tags": []
   },
   "outputs": [],
   "source": [
    "def make_iqm_record(record, layout):\n",
    "    out = record.copy()\n",
    "    query = record.copy()\n",
    "    \n",
    "    tail = query.pop('tail')\n",
    "    query.update(tail_to_query(tail))\n",
    "    jsons = layout.get(extension='.json', **query)\n",
    "    if not jsons:\n",
    "        # Missing MRIQC results, will just show up as nans\n",
    "        return record\n",
    "    jsonfile = jsons[-1]  # T1w images have norm/non-norm variants, pick norm\n",
    "\n",
    "    iqms = jsonfile.get_dict()\n",
    "    del iqms['bids_meta']\n",
    "    del iqms['provenance']\n",
    "    \n",
    "    out.update(iqms)\n",
    "    return out"
   ]
  },
  {
   "cell_type": "code",
   "execution_count": null,
   "id": "e03efa19-2e99-4b55-8be4-744e5db98c3f",
   "metadata": {
    "tags": []
   },
   "outputs": [],
   "source": [
    "iqm_records = [\n",
    "    make_iqm_record(record, layout)\n",
    "    for record in ratings[['subject', 'session', 'tail']].to_dict(orient='records')\n",
    "]"
   ]
  },
  {
   "cell_type": "code",
   "execution_count": null,
   "id": "eac7243e-881f-4a31-ae50-e4912ef2f680",
   "metadata": {
    "tags": []
   },
   "outputs": [],
   "source": [
    "all_scores = pd.merge(ratings, pd.DataFrame.from_records(iqm_records))\n",
    "all_scores = all_scores.set_index(pd.Index(all_scores[[\"subject\", \"session\", \"tail\"]]))\n",
    "\n",
    "all_scores['suffix'] = all_scores['tail'].apply(lambda x: x.split('_')[-1])\n",
    "all_scores['pass'] = (all_scores['rating'] > 2).astype(int)"
   ]
  },
  {
   "cell_type": "code",
   "execution_count": null,
   "id": "cbc1363a-2c61-46ce-956f-20863d4e3831",
   "metadata": {
    "tags": []
   },
   "outputs": [],
   "source": [
    "all_scores['pass']"
   ]
  },
  {
   "cell_type": "code",
   "execution_count": null,
   "id": "b59bdebe-928c-43bd-9211-028defd81c97",
   "metadata": {
    "tags": []
   },
   "outputs": [],
   "source": [
    "T1w_scores = all_scores[all_scores.suffix == 'T1w'].select_dtypes(include=np.number).dropna(axis=1, how='all').dropna(axis=0)\n",
    "T2w_scores = all_scores[all_scores.suffix == 'T2w'].select_dtypes(include=np.number).dropna(axis=1, how='all').dropna(axis=0)\n",
    "BOLD_scores = all_scores[all_scores.suffix == 'bold'].select_dtypes(include=np.number).dropna(axis=1, how='all').dropna(axis=0)"
   ]
  },
  {
   "cell_type": "code",
   "execution_count": null,
   "id": "6ebac70f-1748-454c-bc74-766a55710167",
   "metadata": {
    "tags": []
   },
   "outputs": [],
   "source": [
    "T1w_train, T1w_test = train_test_split(T1w_scores, test_size=0.1, random_state=42)\n",
    "T2w_train, T2w_test = train_test_split(T2w_scores, test_size=0.1, random_state=42)\n",
    "BOLD_train, BOLD_test = train_test_split(BOLD_scores, test_size=0.1, random_state=42)"
   ]
  },
  {
   "cell_type": "code",
   "execution_count": null,
   "id": "02c44e71-2b54-4955-a3d8-e19752eceb21",
   "metadata": {
    "tags": []
   },
   "outputs": [],
   "source": [
    "T1w_train.to_csv('T1w_train.csv')\n",
    "T2w_train.to_csv('T2w_train.csv')\n",
    "BOLD_train.to_csv('BOLD_train.csv')\n",
    "T1w_test.to_csv('T1w_test.csv')\n",
    "T2w_test.to_csv('T2w_test.csv')\n",
    "BOLD_test.to_csv('BOLD_test.csv')"
   ]
  },
  {
   "cell_type": "code",
   "execution_count": null,
   "id": "2b4bd0c5-3088-4e90-a0ff-4a1228356c98",
   "metadata": {
    "tags": []
   },
   "outputs": [],
   "source": [
    "print(T1w_scores.shape, T2w_scores.shape, BOLD_scores.shape)"
   ]
  },
  {
   "cell_type": "code",
   "execution_count": null,
   "id": "d2c82e34-eccd-4ca6-8d7b-cea8f7d01efb",
   "metadata": {
    "tags": []
   },
   "outputs": [],
   "source": [
    "T1w_scores.corrwith(T1w_scores[\"rating\"]).dropna().sort_values()"
   ]
  },
  {
   "cell_type": "code",
   "execution_count": null,
   "id": "2b0d4f0a-bd4e-4427-9a0c-1a877e7125fd",
   "metadata": {
    "tags": []
   },
   "outputs": [],
   "source": [
    "T1w_scores.corrwith(T1w_scores[\"rating\"]).index"
   ]
  },
  {
   "cell_type": "code",
   "execution_count": null,
   "id": "8409116f",
   "metadata": {
    "tags": []
   },
   "outputs": [],
   "source": [
    "T1w_scores.corrwith(T1w_scores[\"pass\"]).dropna().sort_values()"
   ]
  }
 ],
 "metadata": {
  "kernelspec": {
   "display_name": "Python 3 (ipykernel)",
   "language": "python",
   "name": "python3"
  },
  "language_info": {
   "codemirror_mode": {
    "name": "ipython",
    "version": 3
   },
   "file_extension": ".py",
   "mimetype": "text/x-python",
   "name": "python",
   "nbconvert_exporter": "python",
   "pygments_lexer": "ipython3",
   "version": "3.10.10"
  }
 },
 "nbformat": 4,
 "nbformat_minor": 5
}
